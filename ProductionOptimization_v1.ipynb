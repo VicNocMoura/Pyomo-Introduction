{
 "cells": [
  {
   "cell_type": "code",
   "execution_count": null,
   "metadata": {},
   "outputs": [],
   "source": [
    "!pip install pyomo"
   ]
  },
  {
   "cell_type": "code",
   "execution_count": 85,
   "metadata": {},
   "outputs": [],
   "source": [
    "from pyomo.environ import *\n",
    "import pandas as pd\n",
    "import matplotlib.pyplot as plt\n",
    "import numpy as np\n",
    "# Products\n",
    "products = {\n",
    "    'P1' : {'ACR' : 40, 'labor': 2,   'demand': 400},\n",
    "    'P2' : {'ACR' : 30, 'labor': 1,   'demand': 400},\n",
    "    'P3' : {'ACR' : 20, 'labor': 0.5, 'demand': 800},\n",
    "    'P4' : {'ACR' : 25, 'labor': 0.5, 'demand': 400},\n",
    "    'P5' : {'ACR' : 45, 'labor': 2,   'demand': 400}\n",
    "}\n",
    "\n",
    "factory = {'F1' : {'production' : 1000, 'hours': 730, 'Max_capacity_%':1.},\n",
    "           'F2' : {'production' : 500 , 'hours': 730, 'Max_capacity_%':1.},\n",
    "           'F3' : {'production' : 800,  'hours': 730, 'Max_capacity_%':1.00},\n",
    "           'F4' : {'production' : 1500, 'hours': 730, 'Max_capacity_%':1.00},\n",
    "           'F5' : {'production' : 300 , 'hours': 730, 'Max_capacity_%':1.00}\n",
    "           }"
   ]
  },
  {
   "cell_type": "code",
   "execution_count": 2,
   "metadata": {},
   "outputs": [],
   "source": [
    "y = {'F1': {'P1','P2','P5'},\n",
    "     'F2': {'P3', 'P4'},\n",
    "     'F3': {'P1','P4','P5'},\n",
    "     'F4': {'P1','P2','P3','P5'},\n",
    "     'F5': {'P3'}}"
   ]
  },
  {
   "cell_type": "code",
   "execution_count": 3,
   "metadata": {},
   "outputs": [
    {
     "data": {
      "text/plain": [
       "{'F1': {'P1', 'P2', 'P5'},\n",
       " 'F2': {'P3', 'P4'},\n",
       " 'F3': {'P1', 'P4', 'P5'},\n",
       " 'F4': {'P1', 'P2', 'P3', 'P5'},\n",
       " 'F5': {'P3'}}"
      ]
     },
     "execution_count": 3,
     "metadata": {},
     "output_type": "execute_result"
    }
   ],
   "source": [
    "dict(y)"
   ]
  },
  {
   "cell_type": "code",
   "execution_count": 4,
   "metadata": {},
   "outputs": [],
   "source": [
    "P = products.keys()\n",
    "F = factory.keys()"
   ]
  },
  {
   "cell_type": "code",
   "execution_count": 5,
   "metadata": {},
   "outputs": [
    {
     "data": {
      "text/html": [
       "<div>\n",
       "<style scoped>\n",
       "    .dataframe tbody tr th:only-of-type {\n",
       "        vertical-align: middle;\n",
       "    }\n",
       "\n",
       "    .dataframe tbody tr th {\n",
       "        vertical-align: top;\n",
       "    }\n",
       "\n",
       "    .dataframe thead th {\n",
       "        text-align: right;\n",
       "    }\n",
       "</style>\n",
       "<table border=\"1\" class=\"dataframe\">\n",
       "  <thead>\n",
       "    <tr style=\"text-align: right;\">\n",
       "      <th>p</th>\n",
       "      <th>P1</th>\n",
       "      <th>P2</th>\n",
       "      <th>P3</th>\n",
       "      <th>P4</th>\n",
       "      <th>P5</th>\n",
       "    </tr>\n",
       "    <tr>\n",
       "      <th>f</th>\n",
       "      <th></th>\n",
       "      <th></th>\n",
       "      <th></th>\n",
       "      <th></th>\n",
       "      <th></th>\n",
       "    </tr>\n",
       "  </thead>\n",
       "  <tbody>\n",
       "    <tr>\n",
       "      <th>F1</th>\n",
       "      <td>1</td>\n",
       "      <td>1</td>\n",
       "      <td>0</td>\n",
       "      <td>0</td>\n",
       "      <td>1</td>\n",
       "    </tr>\n",
       "    <tr>\n",
       "      <th>F2</th>\n",
       "      <td>0</td>\n",
       "      <td>0</td>\n",
       "      <td>1</td>\n",
       "      <td>1</td>\n",
       "      <td>0</td>\n",
       "    </tr>\n",
       "    <tr>\n",
       "      <th>F3</th>\n",
       "      <td>1</td>\n",
       "      <td>0</td>\n",
       "      <td>0</td>\n",
       "      <td>1</td>\n",
       "      <td>1</td>\n",
       "    </tr>\n",
       "    <tr>\n",
       "      <th>F4</th>\n",
       "      <td>1</td>\n",
       "      <td>1</td>\n",
       "      <td>1</td>\n",
       "      <td>0</td>\n",
       "      <td>1</td>\n",
       "    </tr>\n",
       "    <tr>\n",
       "      <th>F5</th>\n",
       "      <td>0</td>\n",
       "      <td>0</td>\n",
       "      <td>1</td>\n",
       "      <td>0</td>\n",
       "      <td>0</td>\n",
       "    </tr>\n",
       "  </tbody>\n",
       "</table>\n",
       "</div>"
      ],
      "text/plain": [
       "p   P1  P2  P3  P4  P5\n",
       "f                     \n",
       "F1   1   1   0   0   1\n",
       "F2   0   0   1   1   0\n",
       "F3   1   0   0   1   1\n",
       "F4   1   1   1   0   1\n",
       "F5   0   0   1   0   0"
      ]
     },
     "execution_count": 5,
     "metadata": {},
     "output_type": "execute_result"
    }
   ],
   "source": [
    "df = pd.Series({(f,p): 1 for f in F for p in y[f]}).to_frame().reset_index()\n",
    "df.columns = ['f','p','adjancecy']\n",
    "pd.crosstab(df['f'],df['p'])"
   ]
  },
  {
   "cell_type": "code",
   "execution_count": 6,
   "metadata": {},
   "outputs": [],
   "source": [
    "\n",
    "# create model\n",
    "model = ConcreteModel()"
   ]
  },
  {
   "cell_type": "code",
   "execution_count": 7,
   "metadata": {},
   "outputs": [],
   "source": [
    "model.F = Set(initialize = F)\n",
    "model.P = Set(initialize = P)\n",
    "model.FxP = Set(within = model.F*model.P, initialize={(f,p) for f in model.F for p in y[f]})\n",
    "model.y = Param(model.F, within = Any, default = (), initialize = y)"
   ]
  },
  {
   "cell_type": "code",
   "execution_count": 8,
   "metadata": {},
   "outputs": [],
   "source": [
    "model.x = Var(model.FxP, domain = NonNegativeReals)"
   ]
  },
  {
   "cell_type": "code",
   "execution_count": 9,
   "metadata": {},
   "outputs": [
    {
     "name": "stdout",
     "output_type": "stream",
     "text": [
      "# ==========================================================\n",
      "# = Solver Results                                         =\n",
      "# ==========================================================\n",
      "# ----------------------------------------------------------\n",
      "#   Problem Information\n",
      "# ----------------------------------------------------------\n",
      "Problem: \n",
      "- Name: unknown\n",
      "  Lower bound: 71800.0\n",
      "  Upper bound: 71800.0\n",
      "  Number of objectives: 1\n",
      "  Number of constraints: 16\n",
      "  Number of variables: 14\n",
      "  Number of nonzeros: 40\n",
      "  Sense: maximize\n",
      "# ----------------------------------------------------------\n",
      "#   Solver Information\n",
      "# ----------------------------------------------------------\n",
      "Solver: \n",
      "- Status: ok\n",
      "  Termination condition: optimal\n",
      "  Statistics: \n",
      "    Branch and bound: \n",
      "      Number of bounded subproblems: 0\n",
      "      Number of created subproblems: 0\n",
      "  Error rc: 0\n",
      "  Time: 0.22324633598327637\n",
      "# ----------------------------------------------------------\n",
      "#   Solution Information\n",
      "# ----------------------------------------------------------\n",
      "Solution: \n",
      "- number of solutions: 0\n",
      "  number of solutions displayed: 0\n",
      "5 Set Declarations\n",
      "    F : Size=1, Index=None, Ordered=Insertion\n",
      "        Key  : Dimen : Domain : Size : Members\n",
      "        None :     1 :    Any :    5 : {'F1', 'F2', 'F3', 'F4', 'F5'}\n",
      "    FxP : Size=1, Index=None, Ordered=Insertion\n",
      "        Key  : Dimen : Domain     : Size : Members\n",
      "        None :     2 : FxP_domain :   13 : {('F3', 'P4'), ('F4', 'P5'), ('F4', 'P2'), ('F4', 'P3'), ('F1', 'P1'), ('F1', 'P5'), ('F2', 'P3'), ('F1', 'P2'), ('F3', 'P1'), ('F4', 'P1'), ('F5', 'P3'), ('F3', 'P5'), ('F2', 'P4')}\n",
      "    FxP_domain : Size=1, Index=None, Ordered=True\n",
      "        Key  : Dimen : Domain : Size : Members\n",
      "        None :     2 :    F*P :   25 : {('F1', 'P1'), ('F1', 'P2'), ('F1', 'P3'), ('F1', 'P4'), ('F1', 'P5'), ('F2', 'P1'), ('F2', 'P2'), ('F2', 'P3'), ('F2', 'P4'), ('F2', 'P5'), ('F3', 'P1'), ('F3', 'P2'), ('F3', 'P3'), ('F3', 'P4'), ('F3', 'P5'), ('F4', 'P1'), ('F4', 'P2'), ('F4', 'P3'), ('F4', 'P4'), ('F4', 'P5'), ('F5', 'P1'), ('F5', 'P2'), ('F5', 'P3'), ('F5', 'P4'), ('F5', 'P5')}\n",
      "    P : Size=1, Index=None, Ordered=Insertion\n",
      "        Key  : Dimen : Domain : Size : Members\n",
      "        None :     1 :    Any :    5 : {'P1', 'P2', 'P3', 'P4', 'P5'}\n",
      "    cons_index : Size=1, Index=None, Ordered=Insertion\n",
      "        Key  : Dimen : Domain : Size : Members\n",
      "        None :     1 :    Any :    0 :      {}\n",
      "\n",
      "1 Param Declarations\n",
      "    y : Size=5, Index=F, Domain=Any, Default=(), Mutable=False\n",
      "        Key : Value\n",
      "         F1 : {'P1', 'P5', 'P2'}\n",
      "         F2 : {'P3', 'P4'}\n",
      "         F3 : {'P4', 'P1', 'P5'}\n",
      "         F4 : {'P3', 'P1', 'P5', 'P2'}\n",
      "         F5 : {'P3'}\n",
      "\n",
      "1 Var Declarations\n",
      "    x : Size=13, Index=FxP\n",
      "        Key          : Lower : Value : Upper : Fixed : Stale : Domain\n",
      "        ('F1', 'P1') :     0 :  30.0 :  None : False : False : NonNegativeReals\n",
      "        ('F1', 'P2') :     0 : 400.0 :  None : False : False : NonNegativeReals\n",
      "        ('F1', 'P5') :     0 : 135.0 :  None : False : False : NonNegativeReals\n",
      "        ('F2', 'P3') :     0 : 100.0 :  None : False : False : NonNegativeReals\n",
      "        ('F2', 'P4') :     0 : 400.0 :  None : False : False : NonNegativeReals\n",
      "        ('F3', 'P1') :     0 : 365.0 :  None : False : False : NonNegativeReals\n",
      "        ('F3', 'P4') :     0 :   0.0 :  None : False : False : NonNegativeReals\n",
      "        ('F3', 'P5') :     0 :   0.0 :  None : False : False : NonNegativeReals\n",
      "        ('F4', 'P1') :     0 :   0.0 :  None : False : False : NonNegativeReals\n",
      "        ('F4', 'P2') :     0 :   0.0 :  None : False : False : NonNegativeReals\n",
      "        ('F4', 'P3') :     0 : 400.0 :  None : False : False : NonNegativeReals\n",
      "        ('F4', 'P5') :     0 : 265.0 :  None : False : False : NonNegativeReals\n",
      "        ('F5', 'P3') :     0 : 300.0 :  None : False : False : NonNegativeReals\n",
      "\n",
      "1 Objective Declarations\n",
      "    profit : Size=1, Index=None, Active=True\n",
      "        Key  : Active : Sense    : Expression\n",
      "        None :   True : maximize : 40*x[F1,P1] + 45*x[F1,P5] + 30*x[F1,P2] + 20*x[F2,P3] + 25*x[F2,P4] + 25*x[F3,P4] + 40*x[F3,P1] + 45*x[F3,P5] + 20*x[F4,P3] + 40*x[F4,P1] + 45*x[F4,P5] + 30*x[F4,P2] + 20*x[F5,P3]\n",
      "\n",
      "4 Constraint Declarations\n",
      "    capacity : Size=5, Index=F, Active=True\n",
      "        Key : Lower : Body                                      : Upper  : Active\n",
      "         F1 :  -Inf :            x[F1,P1] + x[F1,P5] + x[F1,P2] : 1000.0 :   True\n",
      "         F2 :  -Inf :                       x[F2,P3] + x[F2,P4] :  500.0 :   True\n",
      "         F3 :  -Inf :            x[F3,P4] + x[F3,P1] + x[F3,P5] :  800.0 :   True\n",
      "         F4 :  -Inf : x[F4,P3] + x[F4,P1] + x[F4,P5] + x[F4,P2] : 1500.0 :   True\n",
      "         F5 :  -Inf :                                  x[F5,P3] :  300.0 :   True\n",
      "    cons : Size=0, Index=cons_index, Active=True\n",
      "        Key : Lower : Body : Upper : Active\n",
      "    demand : Size=5, Index=P, Active=True\n",
      "        Key : Lower : Body                           : Upper : Active\n",
      "         P1 :  -Inf : x[F1,P1] + x[F3,P1] + x[F4,P1] : 400.0 :   True\n",
      "         P2 :  -Inf :            x[F4,P2] + x[F1,P2] : 400.0 :   True\n",
      "         P3 :  -Inf : x[F4,P3] + x[F2,P3] + x[F5,P3] : 800.0 :   True\n",
      "         P4 :  -Inf :            x[F3,P4] + x[F2,P4] : 400.0 :   True\n",
      "         P5 :  -Inf : x[F4,P5] + x[F1,P5] + x[F3,P5] : 400.0 :   True\n",
      "    time : Size=5, Index=F, Active=True\n",
      "        Key : Lower : Body                                              : Upper : Active\n",
      "         F1 :  -Inf :                2*x[F1,P1] + 2*x[F1,P5] + x[F1,P2] : 730.0 :   True\n",
      "         F2 :  -Inf :                       0.5*x[F2,P3] + 0.5*x[F2,P4] : 730.0 :   True\n",
      "         F3 :  -Inf :            0.5*x[F3,P4] + 2*x[F3,P1] + 2*x[F3,P5] : 730.0 :   True\n",
      "         F4 :  -Inf : 0.5*x[F4,P3] + 2*x[F4,P1] + 2*x[F4,P5] + x[F4,P2] : 730.0 :   True\n",
      "         F5 :  -Inf :                                      0.5*x[F5,P3] : 730.0 :   True\n",
      "\n",
      "12 Declarations: F P FxP_domain FxP y x profit cons_index cons demand capacity time\n"
     ]
    }
   ],
   "source": [
    "# Variables\n",
    "\n",
    "# Objective\n",
    "model.profit = Objective(expr = sum(model.x[f,p]*products[p]['ACR'] for f in model.F for p in model.y[f]) ,sense = maximize)\n",
    "\n",
    "model.cons = ConstraintList()\n",
    "# Produciton constraint\n",
    "def demand_constraint(model,i):\n",
    "    return sum(model.x[f,p] for (f,p) in model.FxP if p == i) <= products[i]['demand']\n",
    "model.demand = Constraint(model.P, rule = demand_constraint)\n",
    "def capacity_constraint(model,f):\n",
    "    return sum(model.x[f,p] for p in model.y[f]) <= factory[f]['Max_capacity_%']*factory[f]['production']\n",
    "model.capacity = Constraint(model.F, rule = capacity_constraint)\n",
    "def time_constraint(model,f):\n",
    "    return sum(model.x[f,p]*products[p]['labor'] for p in model.y[f]) <= factory[f]['hours']\n",
    "model.time = Constraint(model.F, rule = time_constraint)\n",
    "\n",
    "\n",
    "\n",
    "# solve\n",
    "results = SolverFactory('glpk').solve(model)\n",
    "results.write()\n",
    "if results.solver.status:\n",
    "    model.pprint()\n",
    "\n"
   ]
  },
  {
   "cell_type": "code",
   "execution_count": 10,
   "metadata": {},
   "outputs": [
    {
     "name": "stdout",
     "output_type": "stream",
     "text": [
      "\n",
      "Profit = $71800.0\n",
      "\n",
      "Decision Variables\n",
      "      Production  % Capacity  Working hours     % Hours\n",
      "F1         565.0   56.500000          730.0  100.000000\n",
      "F2         500.0  100.000000          250.0   34.246575\n",
      "F3         365.0   45.625000          730.0  100.000000\n",
      "F4         665.0   44.333333          730.0  100.000000\n",
      "F5         300.0  100.000000          150.0   20.547945\n",
      "Mean       479.0   69.291667          518.0   70.958904\n"
     ]
    }
   ],
   "source": [
    "# display solution\n",
    "\n",
    "print(f'\\nProfit = ${model.profit()}')\n",
    "\n",
    "print('\\nDecision Variables')\n",
    "\n",
    "hours_working = dict()\n",
    "capacity = dict()\n",
    "for f in F:\n",
    "    capacity[f] = 100*sum(model.x[f,p]() for p in model.y[f])/factory[f]['production']\n",
    "    hours_working[f] = 100*sum(model.x[f,p]()*products[p]['labor'] for p in model.y[f])/factory[f]['hours']\n",
    "\n",
    "df_factory = pd.DataFrame()\n",
    "for f in F:\n",
    "    df_factory.loc[f,'Production'] = sum(model.x[f,p]() for p in model.y[f])\n",
    "    df_factory.loc[f,'% Capacity'] = capacity[f]\n",
    "    df_factory.loc[f,'Working hours'] = sum(model.x[f,p]()*products[p]['labor'] for p in model.y[f])\n",
    "    df_factory.loc[f,'% Hours'] = hours_working[f]\n",
    "\n",
    "df_factory.loc['Mean'] = df_factory.mean()\n",
    "print(df_factory)"
   ]
  },
  {
   "cell_type": "code",
   "execution_count": 49,
   "metadata": {},
   "outputs": [
    {
     "data": {
      "text/plain": [
       "['F1', 'F2', 'F3', 'F4', 'F5']"
      ]
     },
     "execution_count": 49,
     "metadata": {},
     "output_type": "execute_result"
    }
   ],
   "source": [
    "df_factory.iloc[0:5].index.tolist()"
   ]
  },
  {
   "cell_type": "code",
   "execution_count": 113,
   "metadata": {},
   "outputs": [
    {
     "data": {
      "text/plain": [
       "<Figure size 576x360 with 0 Axes>"
      ]
     },
     "metadata": {},
     "output_type": "display_data"
    },
    {
     "data": {
      "image/png": "[encoded data removed]",
      "text/plain": [
       "<Figure size 432x288 with 2 Axes>"
      ]
     },
     "metadata": {
      "needs_background": "light"
     },
     "output_type": "display_data"
    }
   ],
   "source": [
    "plt.figure(figsize=(8,5))\n",
    "x = np.arange(len(df_factory.iloc[0:5].index))\n",
    "fig, ax = plt.subplots()\n",
    "ax2 = ax.twinx()\n",
    "re1 = ax.bar( x- 0.2, df_factory.iloc[0:5]['Production'],width=0.5,label='Production')\n",
    "re2 = ax2.bar(x + 0.2, df_factory.iloc[0:5]['% Capacity'],width=0.5,label='% Capacity', color = 'darkorange')\n",
    "plt.xticks(ticks =x,labels= df_factory.iloc[0:5].index.tolist())\n",
    "plt.title('Factory Production capacity')\n",
    "ax.legend(bbox_to_anchor = (1.355,0.7))\n",
    "ax2.legend(bbox_to_anchor = (1.06,0.6))\n",
    "plt.show()"
   ]
  },
  {
   "cell_type": "code",
   "execution_count": 89,
   "metadata": {},
   "outputs": [
    {
     "name": "stdout",
     "output_type": "stream",
     "text": [
      "                   F1     F2     F3     F4     F5  Total Produced\n",
      "P1               30.0    0.0  365.0    0.0    0.0           395.0\n",
      "P2              400.0    0.0    0.0    0.0    0.0           400.0\n",
      "P3                0.0  100.0    0.0  400.0  300.0           800.0\n",
      "P4                0.0  400.0    0.0    0.0    0.0           400.0\n",
      "P5              135.0    0.0    0.0  265.0    0.0           400.0\n",
      "Total Produced  565.0  500.0  365.0  665.0  300.0          2395.0\n"
     ]
    }
   ],
   "source": [
    "\n",
    "\n",
    "df_product = pd.DataFrame()\n",
    "for f in F:\n",
    "    for p in model.y[f]:\n",
    "        df_product.loc[p,f] = model.x[f,p]()\n",
    "df_product=df_product.fillna(0)\n",
    "df_product['Total Produced'] = df_product.sum(axis=1)\n",
    "df_product.loc['Total Produced'] = df_product.sum()\n",
    "df_product.sort_index(inplace=True)\n",
    "\n",
    "print(df_product)"
   ]
  },
  {
   "cell_type": "code",
   "execution_count": 90,
   "metadata": {},
   "outputs": [
    {
     "name": "stdout",
     "output_type": "stream",
     "text": [
      "        F1     F2     F3     F4    F5  % Demand Fulfilled\n",
      "P1    7.50    0.0  91.25   0.00   0.0               98.75\n",
      "P2  100.00    0.0   0.00   0.00   0.0              100.00\n",
      "P3    0.00   12.5   0.00  50.00  37.5              100.00\n",
      "P4    0.00  100.0   0.00   0.00   0.0              100.00\n",
      "P5   33.75    0.0   0.00  66.25   0.0              100.00\n"
     ]
    }
   ],
   "source": [
    "df_demand = pd.DataFrame()\n",
    "for f in F:\n",
    "    for p in model.y[f]:\n",
    "        df_demand.loc[p,f] = 100*model.x[f,p]()/products[p]['demand']\n",
    "df_demand = df_demand.fillna(0)\n",
    "df_demand['% Demand Fulfilled'] = df_demand.sum(axis=1)\n",
    "df_demand.sort_index(inplace=True)\n",
    "\n",
    "print(df_demand)"
   ]
  },
  {
   "cell_type": "code",
   "execution_count": 123,
   "metadata": {},
   "outputs": [
    {
     "data": {
      "text/plain": [
       "<Figure size 576x360 with 0 Axes>"
      ]
     },
     "metadata": {},
     "output_type": "display_data"
    },
    {
     "data": {
      "image/png": "[encoded data removed]",
      "text/plain": [
       "<Figure size 432x288 with 2 Axes>"
      ]
     },
     "metadata": {
      "needs_background": "light"
     },
     "output_type": "display_data"
    }
   ],
   "source": [
    "df_pr = pd.DataFrame()\n",
    "df_pr = pd.concat([df_product.iloc[0:5]['Total Produced'],df_demand['% Demand Fulfilled']],axis=1)\n",
    "\n",
    "\n",
    "plt.figure(figsize=(8,5))\n",
    "x = np.arange(len(df_pr.index))\n",
    "fig, ax = plt.subplots()\n",
    "ax2 = ax.twinx()\n",
    "re1 = ax.bar( x- 0.2, df_pr['Total Produced'],width=0.5,label='Quantity')\n",
    "re2 = ax2.bar(x + 0.2, df_pr['% Demand Fulfilled'],width=0.5,label='% Demand', color = 'darkorange')\n",
    "plt.xticks(ticks =x,labels= df_pr.index.tolist())\n",
    "plt.title('Produced Products')\n",
    "ax.legend(bbox_to_anchor = (1.35,1))\n",
    "ax2.legend(bbox_to_anchor = (1.08,0.9))\n",
    "ax2.set_ylabel('% Demand')\n",
    "ax.set_ylabel('Produced')\n",
    "plt.show()\n"
   ]
  },
  {
   "cell_type": "code",
   "execution_count": 149,
   "metadata": {},
   "outputs": [
    {
     "data": {
      "text/html": [
       "<div>\n",
       "<style scoped>\n",
       "    .dataframe tbody tr th:only-of-type {\n",
       "        vertical-align: middle;\n",
       "    }\n",
       "\n",
       "    .dataframe tbody tr th {\n",
       "        vertical-align: top;\n",
       "    }\n",
       "\n",
       "    .dataframe thead th {\n",
       "        text-align: right;\n",
       "    }\n",
       "</style>\n",
       "<table border=\"1\" class=\"dataframe\">\n",
       "  <thead>\n",
       "    <tr style=\"text-align: right;\">\n",
       "      <th></th>\n",
       "      <th>F1</th>\n",
       "      <th>F2</th>\n",
       "      <th>F3</th>\n",
       "      <th>F4</th>\n",
       "      <th>F5</th>\n",
       "    </tr>\n",
       "  </thead>\n",
       "  <tbody>\n",
       "    <tr>\n",
       "      <th>P1</th>\n",
       "      <td>0.053097</td>\n",
       "      <td>0.0</td>\n",
       "      <td>1.0</td>\n",
       "      <td>0.000000</td>\n",
       "      <td>0.0</td>\n",
       "    </tr>\n",
       "    <tr>\n",
       "      <th>P2</th>\n",
       "      <td>0.707965</td>\n",
       "      <td>0.0</td>\n",
       "      <td>0.0</td>\n",
       "      <td>0.000000</td>\n",
       "      <td>0.0</td>\n",
       "    </tr>\n",
       "    <tr>\n",
       "      <th>P3</th>\n",
       "      <td>0.000000</td>\n",
       "      <td>0.2</td>\n",
       "      <td>0.0</td>\n",
       "      <td>0.601504</td>\n",
       "      <td>1.0</td>\n",
       "    </tr>\n",
       "    <tr>\n",
       "      <th>P4</th>\n",
       "      <td>0.000000</td>\n",
       "      <td>0.8</td>\n",
       "      <td>0.0</td>\n",
       "      <td>0.000000</td>\n",
       "      <td>0.0</td>\n",
       "    </tr>\n",
       "    <tr>\n",
       "      <th>P5</th>\n",
       "      <td>0.238938</td>\n",
       "      <td>0.0</td>\n",
       "      <td>0.0</td>\n",
       "      <td>0.398496</td>\n",
       "      <td>0.0</td>\n",
       "    </tr>\n",
       "  </tbody>\n",
       "</table>\n",
       "</div>"
      ],
      "text/plain": [
       "          F1   F2   F3        F4   F5\n",
       "P1  0.053097  0.0  1.0  0.000000  0.0\n",
       "P2  0.707965  0.0  0.0  0.000000  0.0\n",
       "P3  0.000000  0.2  0.0  0.601504  1.0\n",
       "P4  0.000000  0.8  0.0  0.000000  0.0\n",
       "P5  0.238938  0.0  0.0  0.398496  0.0"
      ]
     },
     "execution_count": 149,
     "metadata": {},
     "output_type": "execute_result"
    }
   ],
   "source": []
  },
  {
   "cell_type": "code",
   "execution_count": 174,
   "metadata": {},
   "outputs": [
    {
     "data": {
      "text/plain": [
       "<Figure size 576x360 with 0 Axes>"
      ]
     },
     "metadata": {},
     "output_type": "display_data"
    },
    {
     "data": {
      "image/png": "[encoded data removed]",
      "text/plain": [
       "<Figure size 720x432 with 1 Axes>"
      ]
     },
     "metadata": {
      "needs_background": "light"
     },
     "output_type": "display_data"
    }
   ],
   "source": [
    "df_pr2 = df_product.iloc[0:5,0:5]\n",
    "df_pr2 = df_pr2/df_pr2.sum()\n",
    "\n",
    "plt.figure(figsize=(8,5))\n",
    "df_pr2.T.plot(kind='bar', \n",
    "                    stacked=True, \n",
    "                    colormap='tab20c', \n",
    "                    figsize=(10, 6))\n",
    "\n",
    "plt.legend(bbox_to_anchor = (1.,1), ncol=1, fontsize = 12)\n",
    "plt.xlabel(\"Factories\")\n",
    "plt.ylabel(\"Proportion\")\n",
    "\n",
    "for n, x in enumerate([*df_pr2.T.index.values]):\n",
    "    for (proportion, y_loc) in zip(df_pr2.T.loc[x],\n",
    "                                   df_pr2.T.loc[x].cumsum()):\n",
    "        if np.round(proportion * 100, 1) != 0:\n",
    "            plt.text(x=n - 0.17,\n",
    "                     y=y_loc,\n",
    "                     s=f'{np.round(proportion * 100, 1)}%', \n",
    "                     color=\"black\",\n",
    "                     fontsize=12,\n",
    "                     fontweight=\"bold\")\n",
    "         \n",
    "\n",
    "plt.show()"
   ]
  },
  {
   "cell_type": "code",
   "execution_count": null,
   "metadata": {},
   "outputs": [],
   "source": []
  }
 ],
 "metadata": {
  "interpreter": {
   "hash": "b3ba2566441a7c06988d0923437866b63cedc61552a5af99d1f4fb67d367b25f"
  },
  "kernelspec": {
   "display_name": "Python 3.9.7 64-bit ('base': conda)",
   "language": "python",
   "name": "python3"
  },
  "language_info": {
   "codemirror_mode": {
    "name": "ipython",
    "version": 3
   },
   "file_extension": ".py",
   "mimetype": "text/x-python",
   "name": "python",
   "nbconvert_exporter": "python",
   "pygments_lexer": "ipython3",
   "version": "3.9.7"
  },
  "orig_nbformat": 4
 },
 "nbformat": 4,
 "nbformat_minor": 2
}
